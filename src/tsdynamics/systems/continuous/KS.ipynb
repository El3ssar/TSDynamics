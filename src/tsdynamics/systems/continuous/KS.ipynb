{
 "cells": [
  {
   "cell_type": "code",
   "execution_count": null,
   "metadata": {},
   "outputs": [],
   "source": [
    "import os\n",
    "import time\n",
    "from functools import partial\n",
    "\n",
    "import keras_reservoir_computing as krc\n",
    "\n",
    "import jax\n",
    "import jax.numpy as jnp\n",
    "import numpy as np\n",
    "import pandas as pd\n",
    "import xarray as xr\n",
    "from matplotlib import pyplot as plt"
   ]
  },
  {
   "cell_type": "code",
   "execution_count": 2,
   "metadata": {},
   "outputs": [],
   "source": [
    "class KuramotoSivashinsky:\n",
    "    def __init__(\n",
    "        self,\n",
    "        L,\n",
    "        Q,\n",
    "        dt,\n",
    "        seed=None,\n",
    "    ):\n",
    "        self.L = L\n",
    "        self.Q = Q\n",
    "        self.dt = dt\n",
    "        self.dx = L / Q\n",
    "\n",
    "        if seed is None:\n",
    "            seed = int(time.time()*1e6) % 2**32\n",
    "        self.seed = seed\n",
    "\n",
    "        wavenumbers = jnp.fft.rfftfreq(Q, d=L / (Q * 2 * jnp.pi))\n",
    "        self.derivative_operator = 1j * wavenumbers\n",
    "\n",
    "        linear_operator = -self.derivative_operator**2 - self.derivative_operator**4\n",
    "        self.exp_term = jnp.exp(dt * linear_operator)\n",
    "        self.coef_1 = jnp.where(\n",
    "            linear_operator == 0.0,\n",
    "            dt,\n",
    "            (self.exp_term - 1.0) / linear_operator,\n",
    "        )\n",
    "        self.coef_2 = jnp.where(\n",
    "            linear_operator == 0.0,\n",
    "            dt / 2,\n",
    "            (self.exp_term - 1.0 - linear_operator * dt) / (linear_operator**2 * dt),\n",
    "        )\n",
    "\n",
    "        self.alias_mask = wavenumbers < 2 / 3 * jnp.max(wavenumbers)\n",
    "\n",
    "    @partial(jax.jit, static_argnums=0)\n",
    "    def __call__(\n",
    "        self,\n",
    "        u,\n",
    "    ):\n",
    "        u_nonlin = -0.5 * u**2\n",
    "        u_hat = jnp.fft.rfft(u)\n",
    "        u_nonlin_hat = jnp.fft.rfft(u_nonlin)\n",
    "        u_nonlin_hat = self.alias_mask * u_nonlin_hat\n",
    "        u_nonlin_der_hat = self.derivative_operator * u_nonlin_hat\n",
    "\n",
    "        u_stage_1_hat = self.exp_term * u_hat + self.coef_1 * u_nonlin_der_hat\n",
    "        u_stage_1 = jnp.fft.irfft(u_stage_1_hat, n=self.Q)\n",
    "\n",
    "        u_stage_1_nonlin = -0.5 * u_stage_1**2\n",
    "        u_stage_1_nonlin_hat = jnp.fft.rfft(u_stage_1_nonlin)\n",
    "        u_stage_1_nonlin_hat = self.alias_mask * u_stage_1_nonlin_hat\n",
    "        u_stage_1_nonlin_der_hat = self.derivative_operator * u_stage_1_nonlin_hat\n",
    "\n",
    "        u_next_hat = u_stage_1_hat + self.coef_2 * (\n",
    "            u_stage_1_nonlin_der_hat - u_nonlin_der_hat\n",
    "        )\n",
    "        u_next = jnp.fft.irfft(u_next_hat, n=self.Q)\n",
    "\n",
    "        return u_next\n",
    "\n",
    "    @partial(jax.jit, static_argnums=(0, 2, 3))\n",
    "    def integrate(self, u_init=None, steps=None, final_t=None):\n",
    "        if u_init is None:\n",
    "\n",
    "            rng_key = jax.random.key(self.seed)\n",
    "            u_init = 1e-3 * jax.random.uniform(rng_key, shape=(self.Q,), minval=-1.0, maxval=1.0)\n",
    "\n",
    "        if final_t is not None:\n",
    "            # final_t takes precedence over steps\n",
    "            steps = int(final_t / self.dt)\n",
    "\n",
    "        elif steps is None:\n",
    "            raise ValueError(\"Either steps or final_t must be provided\")\n",
    "\n",
    "        def step_fn(u, _):\n",
    "            u_next = self(u)\n",
    "            return u_next, u_next\n",
    "\n",
    "        _, u_traj = jax.lax.scan(step_fn, u_init, None, length=steps-1) # first step is u_init\n",
    "        return jnp.vstack((u_init, u_traj))"
   ]
  },
  {
   "cell_type": "code",
   "execution_count": 47,
   "metadata": {},
   "outputs": [],
   "source": [
    "DOMAIN_SIZE = 36.0\n",
    "N_DOF = 128\n",
    "DT = 0.02"
   ]
  },
  {
   "cell_type": "code",
   "execution_count": 60,
   "metadata": {},
   "outputs": [],
   "source": [
    "ks = KuramotoSivashinsky(\n",
    "    L=DOMAIN_SIZE,\n",
    "    Q=N_DOF,\n",
    "    dt=DT,\n",
    ")\n",
    "\n",
    "trj_etdrk2 = ks.integrate(final_t=2000)"
   ]
  },
  {
   "cell_type": "code",
   "execution_count": null,
   "metadata": {},
   "outputs": [],
   "source": [
    "trj_etdrk2[10000:].shape"
   ]
  },
  {
   "cell_type": "code",
   "execution_count": null,
   "metadata": {},
   "outputs": [],
   "source": [
    "%matplotlib widget\n",
    "\n",
    "# Adjust figure size and aspect ratio\n",
    "plt.close(\"all\")\n",
    "plt.figure(figsize=(12, 6))  # Adjust width and height to match the data shape\n",
    "plt.imshow(\n",
    "    trj_etdrk2[:].T, cmap=\"viridis\", interpolation=\"nearest\", aspect=\"auto\"\n",
    ")  # Use 'auto' for proper aspect ratio\n",
    "plt.colorbar(label=\"Value\")  # Add a colorbar\n",
    "plt.title(\"Colormap of 2D Array\")\n",
    "plt.xlabel(\"X-axis (8001)\")\n",
    "plt.ylabel(\"Y-axis (128)\")\n",
    "plt.tight_layout()  # Optimize spacing\n",
    "plt.show()"
   ]
  },
  {
   "cell_type": "code",
   "execution_count": 57,
   "metadata": {},
   "outputs": [],
   "source": [
    "data = np.load(\n",
    "    \"/media/elessar/Data/Pincha/TSDynamics/data/continuous/KS/Train/KS_dt-0.02_N-128_L-36.0_iteration-0.npy\"\n",
    ")"
   ]
  },
  {
   "cell_type": "code",
   "execution_count": null,
   "metadata": {},
   "outputs": [],
   "source": [
    "%matplotlib widget\n",
    "\n",
    "# Adjust figure size and aspect ratio\n",
    "plt.close(\"all\")\n",
    "plt.figure(figsize=(12, 6))  # Adjust width and height to match the data shape\n",
    "plt.imshow(\n",
    "    data[:].T, cmap=\"viridis\", interpolation=\"nearest\", aspect=\"auto\"\n",
    ")  # Use 'auto' for proper aspect ratio\n",
    "plt.colorbar(label=\"Value\")  # Add a colorbar\n",
    "plt.title(\"Colormap of 2D Array\")\n",
    "plt.xlabel(\"X-axis (8001)\")\n",
    "plt.ylabel(\"Y-axis (128)\")\n",
    "plt.tight_layout()  # Optimize spacing\n",
    "plt.show()"
   ]
  },
  {
   "cell_type": "code",
   "execution_count": 23,
   "metadata": {},
   "outputs": [],
   "source": [
    "def jax2df(trj):\n",
    "    return pd.DataFrame(trj)"
   ]
  },
  {
   "cell_type": "code",
   "execution_count": 24,
   "metadata": {},
   "outputs": [],
   "source": [
    "def df2xr(df):\n",
    "    ds = xr.DataArray(df.values, dims=(\"row\", \"col\"))\n",
    "    return ds\n"
   ]
  },
  {
   "cell_type": "code",
   "execution_count": 22,
   "metadata": {},
   "outputs": [],
   "source": [
    "def save_to_netcdf(trj, path):\n",
    "    df = jax2df(trj)\n",
    "    ds = df2xr(df)\n",
    "    ds.to_netcdf(\n",
    "        path=path,\n",
    "        engine=\"netcdf4\",\n",
    "        encoding={\"__xarray_dataarray_variable__\": {\"zlib\": True, \"complevel\": 5}},\n",
    "    )"
   ]
  },
  {
   "cell_type": "code",
   "execution_count": 21,
   "metadata": {},
   "outputs": [],
   "source": [
    "def save_data(trj, folder_path, iteration, method=\"nc\"):\n",
    "    os.makedirs(folder_path, exist_ok=True)\n",
    "    if method == \"nc\":\n",
    "        save_to_netcdf(\n",
    "            trj, os.path.join(folder_path, f\"KS_dt-{DT}_N-{N_DOF}_L-{DOMAIN_SIZE}_iteration-{iteration}.nc\")\n",
    "        )\n",
    "    elif method == \"npy\":\n",
    "        np.save(\n",
    "            os.path.join(folder_path, f\"KS_dt-{DT}_N-{N_DOF}_L-{DOMAIN_SIZE}_iteration-{iteration}.npy\"),\n",
    "            trj,\n",
    "        )"
   ]
  },
  {
   "cell_type": "code",
   "execution_count": null,
   "metadata": {},
   "outputs": [],
   "source": [
    "for i in range(1,701):\n",
    "    ks = KuramotoSivashinsky(\n",
    "        L=DOMAIN_SIZE,\n",
    "        Q=N_DOF,\n",
    "        dt=DT,\n",
    "    )\n",
    "\n",
    "    if i % 10 == 0:\n",
    "        print(f\"Iteration {i}\")\n",
    "\n",
    "    trj_etdrk2 = ks.integrate(steps=70000)\n",
    "\n",
    "    if i < 200:\n",
    "        iteration = i\n",
    "        savepath = \"/media/elessar/Data/Pincha/TSDynamics/data/continuous/KS/Train\"\n",
    "    else:\n",
    "        iteration = i - 200\n",
    "        savepath = \"/media/elessar/Data/Pincha/TSDynamics/data/continuous/KS/Test\"\n",
    "\n",
    "\n",
    "    save_data(trj_etdrk2, folder_path=savepath, iteration=iteration, method=\"npy\")"
   ]
  }
 ],
 "metadata": {
  "kernelspec": {
   "display_name": "krc",
   "language": "python",
   "name": "python3"
  },
  "language_info": {
   "codemirror_mode": {
    "name": "ipython",
    "version": 3
   },
   "file_extension": ".py",
   "mimetype": "text/x-python",
   "name": "python",
   "nbconvert_exporter": "python",
   "pygments_lexer": "ipython3",
   "version": "3.10.15"
  }
 },
 "nbformat": 4,
 "nbformat_minor": 2
}
